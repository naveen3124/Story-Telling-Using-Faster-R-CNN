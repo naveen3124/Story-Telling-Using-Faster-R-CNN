{
 "cells": [
  {
   "cell_type": "code",
   "execution_count": 5,
   "metadata": {},
   "outputs": [
    {
     "name": "stdout",
     "output_type": "stream",
     "text": [
      "train images num: 14575\n",
      "val images num: 2487\n",
      "test images num: 2489\n"
     ]
    }
   ],
   "source": [
    "import os\n",
    "import glob\n",
    "import json\n",
    "import subprocess\n",
    "from shutil import copy2\n",
    "\n",
    "genome_VG_100K_path = \"E:\\Projects\\Story-Telling-Using-Show-Attend-and-tell\\genomedata\\VG_100K\"\n",
    "genome_VG_100K_2_path = \"E:\\Projects\\Story-Telling-Using-Show-Attend-and-tell\\genomedata\\VG_100K_2\"\n",
    "\n",
    "train_json_path = \"E:\\Projects\\Story-Telling-Using-Show-Attend-and-tell\\JsonPaths\\\\train_split.json\"\n",
    "val_json_path = \"E:\\Projects\\Story-Telling-Using-Show-Attend-and-tell\\JsonPaths\\\\val_split.json\"\n",
    "test_json_path = \"E:\\Projects\\Story-Telling-Using-Show-Attend-and-tell\\JsonPaths\\\\test_split.json\"\n",
    "\n",
    "train_savepath = \"E:\\Projects\\Story-Telling-Using-Show-Attend-and-tell\\savepaths\\im2p_train\"\n",
    "val_savepath = \"E:\\Projects\\Story-Telling-Using-Show-Attend-and-tell\\savepaths\\im2p_val\"\n",
    "test_savepath = \"E:\\Projects\\Story-Telling-Using-Show-Attend-and-tell\\savepaths\\im2p_test\"\n",
    "\n",
    "all_images = glob.glob(genome_VG_100K_path + \"/*.jpg\")\n",
    "all_images_2 = glob.glob(genome_VG_100K_2_path + \"/*.jpg\")\n",
    "\n",
    "for item in all_images_2:\n",
    "    all_images.append(item)\n",
    "\n",
    "with open(train_json_path, \"r\") as fr1:\n",
    "    train_names = json.load(fr1)\n",
    "\n",
    "with open(val_json_path, \"r\") as fr2:\n",
    "    val_names = json.load(fr2)\n",
    "\n",
    "with open(test_json_path, \"r\") as fr3:\n",
    "    test_names = json.load(fr3)\n",
    "\n",
    "print (\"train images num: {}\".format(len(train_names)))\n",
    "print (\"val images num: {}\".format(len(val_names)))\n",
    "print (\"test images num: {}\".format(len(test_names)))\n",
    "\n",
    "for idx, img in enumerate(all_images):\n",
    "   \n",
    "   # print (\"idx: {}  {}   {}\".format(idx, img, train_savepath))\n",
    "    \n",
    "    img_name = int(os.path.basename(img).split(\".\")[0])\n",
    "    if img_name in train_names:\n",
    "        copy2(img, train_savepath)\n",
    "    elif img_name in val_names:\n",
    "        copy2(img, val_savepath)\n",
    "    elif img_name in test_names:\n",
    "        copy2(img, test_savepath)\n"
   ]
  },
  {
   "cell_type": "code",
   "execution_count": 5,
   "metadata": {},
   "outputs": [],
   "source": [
    "import os\n",
    "import glob\n",
    "train_savepath = \"E:\\Projects\\Story-Telling-Using-Show-Attend-and-tell\\savepaths\\im2p_train\"\n",
    "val_savepath = \"E:\\Projects\\Story-Telling-Using-Show-Attend-and-tell\\savepaths\\im2p_val\"\n",
    "test_savepath = \"E:\\Projects\\Story-Telling-Using-Show-Attend-and-tell\\savepaths\\im2p_test\"\n",
    "\n",
    "train_images = glob.glob(train_savepath + \"/*.jpg\")\n",
    "f = open(\"imgs_train_path.txt\", \"w\")\n",
    "for item in train_images:\n",
    "    f.write(item + \"\\n\")\n",
    "f.close()\n",
    "\n",
    "test_images = glob.glob(test_savepath + \"/*.jpg\")\n",
    "f = open(\"imgs_test_path.txt\", \"w\")\n",
    "for item in test_images:\n",
    "    f.write(item + \"\\n\")\n",
    "f.close()\n",
    "\n",
    "val_images = glob.glob(val_savepath + \"/*.jpg\")\n",
    "f = open(\"imgs_val_path.txt\", \"w\")\n",
    "for item in val_images:\n",
    "    f.write(item + \"\\n\")\n",
    "f.close()\n",
    "\n"
   ]
  },
  {
   "cell_type": "code",
   "execution_count": 7,
   "metadata": {},
   "outputs": [],
   "source": []
  },
  {
   "cell_type": "code",
   "execution_count": null,
   "metadata": {
    "collapsed": true
   },
   "outputs": [],
   "source": []
  }
 ],
 "metadata": {
  "kernelspec": {
   "display_name": "Python 3",
   "language": "python",
   "name": "python3"
  },
  "language_info": {
   "codemirror_mode": {
    "name": "ipython",
    "version": 3
   },
   "file_extension": ".py",
   "mimetype": "text/x-python",
   "name": "python",
   "nbconvert_exporter": "python",
   "pygments_lexer": "ipython3",
   "version": "3.5.4"
  }
 },
 "nbformat": 4,
 "nbformat_minor": 2
}
