{
 "cells": [
  {
   "cell_type": "code",
   "execution_count": 36,
   "metadata": {},
   "outputs": [],
   "source": [
    "import os\n",
    "import json\n",
    "import pickle\n",
    "\n",
    "paragraph_json_file = open('E:\\Projects\\Story-Telling-Using-Show-Attend-and-tell\\genomedata\\paragraphs_v1.json').read()\n",
    "paragraph = json.loads(paragraph_json_file)\n",
    "\n",
    "img2paragraph = {}\n",
    "\n",
    "for each_img in paragraph:\n",
    "    image_id = each_img['image_id']\n",
    "    each_paragraph = each_img['paragraph']\n",
    "    sentences = each_paragraph.split('. ')\n",
    "    if '' in sentences:\n",
    "        sentences.remove('')\n",
    "    img2paragraph[image_id] = [len(sentences), sentences]\n",
    "\n",
    "#for key, para in img2paragraph.items():\n",
    "    #print (key, para)\n",
    "\n",
    "with open('img2paragraph', 'wb') as f:\n",
    "    pickle.dump(img2paragraph, f)"
   ]
  },
  {
   "cell_type": "code",
   "execution_count": 37,
   "metadata": {},
   "outputs": [],
   "source": []
  },
  {
   "cell_type": "code",
   "execution_count": 70,
   "metadata": {},
   "outputs": [],
   "source": []
  },
  {
   "cell_type": "code",
   "execution_count": null,
   "metadata": {
    "collapsed": true
   },
   "outputs": [],
   "source": []
  }
 ],
 "metadata": {
  "kernelspec": {
   "display_name": "Python 3",
   "language": "python",
   "name": "python3"
  },
  "language_info": {
   "codemirror_mode": {
    "name": "ipython",
    "version": 3
   },
   "file_extension": ".py",
   "mimetype": "text/x-python",
   "name": "python",
   "nbconvert_exporter": "python",
   "pygments_lexer": "ipython3",
   "version": "3.5.4"
  }
 },
 "nbformat": 4,
 "nbformat_minor": 2
}
